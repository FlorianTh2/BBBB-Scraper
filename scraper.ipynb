{
 "cells": [
  {
   "cell_type": "code",
   "execution_count": 1,
   "id": "ab6aae70-8610-4b80-b425-01353c077048",
   "metadata": {},
   "outputs": [],
   "source": [
    "# python -m pip install -r requirements.txt\n",
    "# to python-script:\n",
    "#  - via jupyterlab-gui\n",
    "#  - via jupyter nbconvert --to script [YOUR_NOTEBOOK].ipynb\n",
    "pass"
   ]
  },
  {
   "cell_type": "code",
   "execution_count": 2,
   "id": "7bf28015-8e84-485d-887c-1b36ef635635",
   "metadata": {},
   "outputs": [],
   "source": [
    "import requests\n",
    "from datetime import datetime, timezone, timedelta\n",
    "import json"
   ]
  },
  {
   "cell_type": "markdown",
   "id": "f0773721-8473-4ade-93b4-c42c2dad7c5c",
   "metadata": {},
   "source": [
    "## Berta Block Boulderhalle Berlin Scraper"
   ]
  },
  {
   "cell_type": "code",
   "execution_count": 3,
   "id": "d4b6bdd9-41d6-49a4-b6d0-acf0e5e50169",
   "metadata": {},
   "outputs": [],
   "source": [
    "\"\"\"\n",
    "acronyms:\n",
    "\n",
    "cod: status_code\n",
    "ela: elapsed in microseconds (not milliseconds)\n",
    "url: url\n",
    "dat: date\n",
    "enc: encoding\n",
    "ctt: content-type\n",
    "d: data\n",
    "\n",
    "dli: datalist: [{event start (string utc nach iso 8601), end: event end (string utc nach iso 8601)}, ...]\n",
    "min: minCourseParticipantCount\n",
    "max: maxCourseParticipantCount\n",
    "cur: currentCourseParticipantCount\n",
    "state: state\n",
    "\n",
    "\"\"\"\n",
    "\n",
    "pass"
   ]
  },
  {
   "cell_type": "code",
   "execution_count": 4,
   "id": "4937c7e1-0148-46b4-aa7a-ababb2dbe4d8",
   "metadata": {},
   "outputs": [],
   "source": [
    "def toIsoString(dateTime):\n",
    "    return dateTime.isoformat()\n",
    "\n",
    "def getUtc():\n",
    "    return datetime.now(timezone.utc).replace(microsecond=0)\n",
    "\n",
    "def getUtcIsoString():\n",
    "    return toIsoString(getUtc())\n",
    "\n",
    "def unixTimestampToUTCIsoString(unixTimestamp):\n",
    "    # cast to int (should be int already but just in case)\n",
    "    # /1000 to get milliseconds from microseconds\n",
    "    ts = int(unixTimestamp) / 1000\n",
    "    dt = datetime.utcfromtimestamp(ts)\n",
    "    return toIsoString(dt)\n",
    "\n",
    "def getUnixTimestamp(dt):\n",
    "    return int(dt.timestamp()) * 1000\n",
    "\n",
    "def getDatetimeTodayWithSpecificHour(hour):\n",
    "    return getUtc().replace(hour=hour, minute=0, second=0)\n",
    "\n",
    "def parse_payload(response_payload):\n",
    "    data = []\n",
    "    for a in response_payload:\n",
    "        record = {\n",
    "        \"dli\": [{\"sta\": unixTimestampToUTCIsoString(b[\"start\"]), \"end\": unixTimestampToUTCIsoString(b[\"end\"])} for b in a[\"dateList\"]],\n",
    "        \"min\": a[\"minCourseParticipantCount\"],\n",
    "        \"max\": a[\"maxCourseParticipantCount\"],\n",
    "        \"cur\": a[\"currentCourseParticipantCount\"],\n",
    "        \"state\": a[\"state\"]\n",
    "        }\n",
    "        data.append(record)\n",
    "    return data"
   ]
  },
  {
   "cell_type": "code",
   "execution_count": 5,
   "id": "8c107d32-2bbc-4e91-90ed-6dcd6a886b1d",
   "metadata": {},
   "outputs": [
    {
     "data": {
      "text/plain": [
       "'https://backend.dr-plano.com/courses_dates?id=114569964&start=1655017200000&end=1655071200000'"
      ]
     },
     "execution_count": 5,
     "metadata": {},
     "output_type": "execute_result"
    }
   ],
   "source": [
    "# url = \"https://jsonplaceholder.typicode.com/todos/1\"\n",
    "\n",
    "# start: e.g. 1650265200000\n",
    "# end: e.g. 1650319200000\n",
    "url = (\n",
    "        \"https://backend.dr-plano.com/courses_dates?\" +\n",
    "        \"id=114569964\" +\n",
    "        \"&start=\" + str(getUnixTimestamp(getDatetimeTodayWithSpecificHour(7))) +\n",
    "        \"&end=\" + str(getUnixTimestamp(getDatetimeTodayWithSpecificHour(22))))\n",
    "url"
   ]
  },
  {
   "cell_type": "code",
   "execution_count": 6,
   "id": "f7717e8d-606d-4ce8-83a5-7be8bf0af5e9",
   "metadata": {},
   "outputs": [],
   "source": [
    "headers = {\n",
    "    \"User-Agent\": \"Mozilla/5.0 (Windows NT 10.0; Win64; x64) AppleWebKit/537.36 (KHTML, like Gecko) Chrome/100.0.4896.127 Safari/537.36\",\n",
    "    \"accept\": \"application/json\"\n",
    "}\n",
    "response = requests.get(url, headers=headers)"
   ]
  },
  {
   "cell_type": "code",
   "execution_count": 7,
   "id": "75ab7108-ee80-43bf-ac7c-b0121dd179af",
   "metadata": {},
   "outputs": [
    {
     "ename": "TypeError",
     "evalue": "string indices must be integers",
     "output_type": "error",
     "traceback": [
      "\u001b[1;31m---------------------------------------------------------------------------\u001b[0m",
      "\u001b[1;31mTypeError\u001b[0m                                 Traceback (most recent call last)",
      "\u001b[1;32m~\\AppData\\Local\\Temp/ipykernel_348/2348061003.py\u001b[0m in \u001b[0;36m<module>\u001b[1;34m\u001b[0m\n\u001b[0;32m      6\u001b[0m     \u001b[1;34m\"enc\"\u001b[0m\u001b[1;33m:\u001b[0m \u001b[0mresponse\u001b[0m\u001b[1;33m.\u001b[0m\u001b[0mencoding\u001b[0m\u001b[1;33m,\u001b[0m\u001b[1;33m\u001b[0m\u001b[1;33m\u001b[0m\u001b[0m\n\u001b[0;32m      7\u001b[0m     \u001b[1;34m\"ctt\"\u001b[0m\u001b[1;33m:\u001b[0m \u001b[0mresponse\u001b[0m\u001b[1;33m.\u001b[0m\u001b[0mheaders\u001b[0m\u001b[1;33m[\u001b[0m\u001b[1;34m\"Content-Type\"\u001b[0m\u001b[1;33m]\u001b[0m\u001b[1;33m,\u001b[0m\u001b[1;33m\u001b[0m\u001b[1;33m\u001b[0m\u001b[0m\n\u001b[1;32m----> 8\u001b[1;33m     \u001b[1;34m\"d\"\u001b[0m\u001b[1;33m:\u001b[0m \u001b[0mparse_payload\u001b[0m\u001b[1;33m(\u001b[0m\u001b[0mresponse\u001b[0m\u001b[1;33m.\u001b[0m\u001b[0mjson\u001b[0m\u001b[1;33m(\u001b[0m\u001b[1;33m)\u001b[0m\u001b[1;33m)\u001b[0m\u001b[1;33m\u001b[0m\u001b[1;33m\u001b[0m\u001b[0m\n\u001b[0m\u001b[0;32m      9\u001b[0m }\n",
      "\u001b[1;32m~\\AppData\\Local\\Temp/ipykernel_348/1098932063.py\u001b[0m in \u001b[0;36mparse_payload\u001b[1;34m(response_payload)\u001b[0m\n\u001b[0;32m     25\u001b[0m     \u001b[1;32mfor\u001b[0m \u001b[0ma\u001b[0m \u001b[1;32min\u001b[0m \u001b[0mresponse_payload\u001b[0m\u001b[1;33m:\u001b[0m\u001b[1;33m\u001b[0m\u001b[1;33m\u001b[0m\u001b[0m\n\u001b[0;32m     26\u001b[0m         record = {\n\u001b[1;32m---> 27\u001b[1;33m         \u001b[1;34m\"dli\"\u001b[0m\u001b[1;33m:\u001b[0m \u001b[1;33m[\u001b[0m\u001b[1;33m{\u001b[0m\u001b[1;34m\"sta\"\u001b[0m\u001b[1;33m:\u001b[0m \u001b[0munixTimestampToUTCIsoString\u001b[0m\u001b[1;33m(\u001b[0m\u001b[0mb\u001b[0m\u001b[1;33m[\u001b[0m\u001b[1;34m\"start\"\u001b[0m\u001b[1;33m]\u001b[0m\u001b[1;33m)\u001b[0m\u001b[1;33m,\u001b[0m \u001b[1;34m\"end\"\u001b[0m\u001b[1;33m:\u001b[0m \u001b[0munixTimestampToUTCIsoString\u001b[0m\u001b[1;33m(\u001b[0m\u001b[0mb\u001b[0m\u001b[1;33m[\u001b[0m\u001b[1;34m\"end\"\u001b[0m\u001b[1;33m]\u001b[0m\u001b[1;33m)\u001b[0m\u001b[1;33m}\u001b[0m \u001b[1;32mfor\u001b[0m \u001b[0mb\u001b[0m \u001b[1;32min\u001b[0m \u001b[0ma\u001b[0m\u001b[1;33m[\u001b[0m\u001b[1;34m\"dateList\"\u001b[0m\u001b[1;33m]\u001b[0m\u001b[1;33m]\u001b[0m\u001b[1;33m,\u001b[0m\u001b[1;33m\u001b[0m\u001b[1;33m\u001b[0m\u001b[0m\n\u001b[0m\u001b[0;32m     28\u001b[0m         \u001b[1;34m\"min\"\u001b[0m\u001b[1;33m:\u001b[0m \u001b[0ma\u001b[0m\u001b[1;33m[\u001b[0m\u001b[1;34m\"minCourseParticipantCount\"\u001b[0m\u001b[1;33m]\u001b[0m\u001b[1;33m,\u001b[0m\u001b[1;33m\u001b[0m\u001b[1;33m\u001b[0m\u001b[0m\n\u001b[0;32m     29\u001b[0m         \u001b[1;34m\"max\"\u001b[0m\u001b[1;33m:\u001b[0m \u001b[0ma\u001b[0m\u001b[1;33m[\u001b[0m\u001b[1;34m\"maxCourseParticipantCount\"\u001b[0m\u001b[1;33m]\u001b[0m\u001b[1;33m,\u001b[0m\u001b[1;33m\u001b[0m\u001b[1;33m\u001b[0m\u001b[0m\n",
      "\u001b[1;31mTypeError\u001b[0m: string indices must be integers"
     ]
    }
   ],
   "source": [
    "parsed_result = {\n",
    "    \"cod\": response.status_code,\n",
    "    \"ela\": response.elapsed.microseconds,\n",
    "    \"url\": response.url, \n",
    "    \"dat\": getUtcIsoString(),\n",
    "    \"enc\": response.encoding,\n",
    "    \"ctt\": response.headers[\"Content-Type\"],\n",
    "    \"d\": parse_payload(response.json())\n",
    "}"
   ]
  },
  {
   "cell_type": "code",
   "execution_count": 19,
   "id": "9bc57845-1f0b-4819-8bda-a1f071e7e721",
   "metadata": {},
   "outputs": [],
   "source": [
    "# # get length of file\n",
    "# data = []\n",
    "# with open('stats/parsed.data') as f:\n",
    "#     for line in f:\n",
    "#         data.append(json.loads(line))\n",
    "# len(data)"
   ]
  },
  {
   "cell_type": "code",
   "execution_count": 18,
   "id": "f9a8a292-ad85-4ffd-9e6c-642b03fbccbf",
   "metadata": {},
   "outputs": [
    {
     "name": "stdout",
     "output_type": "stream",
     "text": [
      "{\"cod\": 200, \"ela\": 209700, \"url\": \"https://backend.dr-plano.com/courses_dates?id=114569964&start=1651820400000&end=1651874400000\", \"dat\": \"2022-05-06T10:22:15+00:00\", \"enc\": \"utf-8\", \"ctt\": \"application/json\", \"d\": [{\"dli\": [{\"sta\": \"2022-05-06T17:00:00\", \"end\": \"2022-05-06T20:00:00\"}], \"min\": 1, \"max\": 40, \"cur\": 18, \"state\": \"BOOKABLE\"}, {\"dli\": [{\"sta\": \"2022-05-06T11:30:00\", \"end\": \"2022-05-06T14:30:00\"}], \"min\": 1, \"max\": 40, \"cur\": 4, \"state\": \"BOOKABLE\"}, {\"dli\": [{\"sta\": \"2022-05-06T14:00:00\", \"end\": \"2022-05-06T17:00:00\"}], \"min\": 1, \"max\": 40, \"cur\": 23, \"state\": \"BOOKABLE\"}, {\"dli\": [{\"sta\": \"2022-05-06T09:00:00\", \"end\": \"2022-05-06T12:00:00\"}], \"min\": 1, \"max\": 40, \"cur\": 26, \"state\": \"BOOKABLE\"}, {\"dli\": [{\"sta\": \"2022-05-06T14:30:00\", \"end\": \"2022-05-06T17:30:00\"}], \"min\": 1, \"max\": 40, \"cur\": 12, \"state\": \"BOOKABLE\"}, {\"dli\": [{\"sta\": \"2022-05-06T17:30:00\", \"end\": \"2022-05-06T20:30:00\"}], \"min\": 1, \"max\": 40, \"cur\": 7, \"state\": \"BOOKABLE\"}, {\"dli\": [{\"sta\": \"2022-05-06T11:00:00\", \"end\": \"2022-05-06T14:00:00\"}], \"min\": 1, \"max\": 40, \"cur\": 7, \"state\": \"BOOKABLE\"}, {\"dli\": [{\"sta\": \"2022-05-06T13:30:00\", \"end\": \"2022-05-06T16:30:00\"}], \"min\": 1, \"max\": 40, \"cur\": 6, \"state\": \"BOOKABLE\"}, {\"dli\": [{\"sta\": \"2022-05-06T09:30:00\", \"end\": \"2022-05-06T12:30:00\"}], \"min\": 1, \"max\": 40, \"cur\": 19, \"state\": \"BOOKABLE\"}, {\"dli\": [{\"sta\": \"2022-05-06T10:30:00\", \"end\": \"2022-05-06T13:30:00\"}], \"min\": 1, \"max\": 40, \"cur\": 7, \"state\": \"BOOKABLE\"}, {\"dli\": [{\"sta\": \"2022-05-06T16:30:00\", \"end\": \"2022-05-06T19:30:00\"}], \"min\": 1, \"max\": 40, \"cur\": 17, \"state\": \"BOOKABLE\"}, {\"dli\": [{\"sta\": \"2022-05-06T07:00:00\", \"end\": \"2022-05-06T10:00:00\"}], \"min\": 1, \"max\": 40, \"cur\": 20, \"state\": \"NOT_BOOKABLE_ANYMORE\"}, {\"dli\": [{\"sta\": \"2022-05-06T10:00:00\", \"end\": \"2022-05-06T13:00:00\"}], \"min\": 1, \"max\": 40, \"cur\": 12, \"state\": \"BOOKABLE\"}, {\"dli\": [{\"sta\": \"2022-05-06T12:00:00\", \"end\": \"2022-05-06T15:00:00\"}], \"min\": 1, \"max\": 40, \"cur\": 22, \"state\": \"BOOKABLE\"}, {\"dli\": [{\"sta\": \"2022-05-06T15:30:00\", \"end\": \"2022-05-06T18:30:00\"}], \"min\": 1, \"max\": 40, \"cur\": 19, \"state\": \"BOOKABLE\"}, {\"dli\": [{\"sta\": \"2022-05-06T07:30:00\", \"end\": \"2022-05-06T10:30:00\"}], \"min\": 1, \"max\": 40, \"cur\": 17, \"state\": \"BOOKABLE\"}, {\"dli\": [{\"sta\": \"2022-05-06T13:00:00\", \"end\": \"2022-05-06T16:00:00\"}], \"min\": 1, \"max\": 40, \"cur\": 11, \"state\": \"BOOKABLE\"}, {\"dli\": [{\"sta\": \"2022-05-06T18:00:00\", \"end\": \"2022-05-06T21:00:00\"}], \"min\": 1, \"max\": 40, \"cur\": 14, \"state\": \"BOOKABLE\"}, {\"dli\": [{\"sta\": \"2022-05-06T16:00:00\", \"end\": \"2022-05-06T19:00:00\"}], \"min\": 1, \"max\": 40, \"cur\": 15, \"state\": \"BOOKABLE\"}, {\"dli\": [{\"sta\": \"2022-05-06T15:00:00\", \"end\": \"2022-05-06T18:00:00\"}], \"min\": 1, \"max\": 40, \"cur\": 24, \"state\": \"BOOKABLE\"}, {\"dli\": [{\"sta\": \"2022-05-06T12:30:00\", \"end\": \"2022-05-06T15:30:00\"}], \"min\": 1, \"max\": 40, \"cur\": 12, \"state\": \"BOOKABLE\"}, {\"dli\": [{\"sta\": \"2022-05-06T08:00:00\", \"end\": \"2022-05-06T11:00:00\"}], \"min\": 1, \"max\": 40, \"cur\": 17, \"state\": \"BOOKABLE\"}, {\"dli\": [{\"sta\": \"2022-05-06T08:30:00\", \"end\": \"2022-05-06T11:30:00\"}], \"min\": 1, \"max\": 40, \"cur\": 10, \"state\": \"BOOKABLE\"}, {\"dli\": [{\"sta\": \"2022-05-06T18:30:00\", \"end\": \"2022-05-06T21:30:00\"}], \"min\": 1, \"max\": 40, \"cur\": 10, \"state\": \"BOOKABLE\"}]}\n"
     ]
    }
   ],
   "source": [
    "def write_parsed_result_to_file(parsed_result):\n",
    "    filename = \"stats/parsed.data\"\n",
    "    json_string = json.dumps(parsed_result)\n",
    "    print(json_string)\n",
    "    with open(filename, \"a\") as f:\n",
    "        f.write(json_string + \"\\n\")\n",
    "    \n",
    "    # if first data record is older than 1 year, delete this record\n",
    "    # so the data does not grow indefinitly\n",
    "    date_current = getUtc()\n",
    "    date_year_ago = date_current - timedelta(days=1*365/1)\n",
    "    with open(filename, 'r+') as f:\n",
    "        line = f.readline() # read the first line and throw it out\n",
    "        json_line = json.loads(line)\n",
    "        date_file_string = json_line[\"dat\"]\n",
    "        date_file_datetime = datetime.fromisoformat(date_file_string)\n",
    "        if(date_file_datetime < date_year_ago):\n",
    "            data = f.read() # read the rest\n",
    "            f.seek(0) # set the cursor to the top of the file\n",
    "            f.write(data) # write the data back\n",
    "            f.truncate() # set the file size to the current size\n",
    "    return\n",
    "\n",
    "write_parsed_result_to_file(parsed_result)"
   ]
  },
  {
   "cell_type": "code",
   "execution_count": null,
   "id": "60cd72df-d06a-47a4-a15d-8d47f57e2af2",
   "metadata": {},
   "outputs": [],
   "source": []
  }
 ],
 "metadata": {
  "kernelspec": {
   "display_name": "Python 3 (ipykernel)",
   "language": "python",
   "name": "python3"
  },
  "language_info": {
   "codemirror_mode": {
    "name": "ipython",
    "version": 3
   },
   "file_extension": ".py",
   "mimetype": "text/x-python",
   "name": "python",
   "nbconvert_exporter": "python",
   "pygments_lexer": "ipython3",
   "version": "3.8.12"
  }
 },
 "nbformat": 4,
 "nbformat_minor": 5
}
