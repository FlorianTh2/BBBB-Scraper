{
 "cells": [
  {
   "cell_type": "code",
   "execution_count": 1,
   "id": "7bf28015-8e84-485d-887c-1b36ef635635",
   "metadata": {},
   "outputs": [],
   "source": [
    "import requests"
   ]
  },
  {
   "cell_type": "code",
   "execution_count": 2,
   "id": "a2bad948-7aa1-4a7e-a688-42f56608710c",
   "metadata": {},
   "outputs": [],
   "source": [
    "api_url = \"https://jsonplaceholder.typicode.com/todos/1\""
   ]
  },
  {
   "cell_type": "code",
   "execution_count": 3,
   "id": "75ab7108-ee80-43bf-ac7c-b0121dd179af",
   "metadata": {},
   "outputs": [
    {
     "data": {
      "text/plain": [
       "{'userId': 1, 'id': 1, 'title': 'delectus aut autem', 'completed': False}"
      ]
     },
     "execution_count": 3,
     "metadata": {},
     "output_type": "execute_result"
    }
   ],
   "source": [
    "response = requests.get(api_url)\n",
    "response.json()"
   ]
  },
  {
   "cell_type": "code",
   "execution_count": null,
   "id": "2fda3baf-4db8-49a2-b2f0-1e7d167c76e0",
   "metadata": {},
   "outputs": [],
   "source": []
  }
 ],
 "metadata": {
  "kernelspec": {
   "display_name": "Python 3 (ipykernel)",
   "language": "python",
   "name": "python3"
  },
  "language_info": {
   "codemirror_mode": {
    "name": "ipython",
    "version": 3
   },
   "file_extension": ".py",
   "mimetype": "text/x-python",
   "name": "python",
   "nbconvert_exporter": "python",
   "pygments_lexer": "ipython3",
   "version": "3.8.12"
  }
 },
 "nbformat": 4,
 "nbformat_minor": 5
}
