{
 "cells": [
  {
   "cell_type": "code",
   "execution_count": 13,
   "id": "ab6aae70-8610-4b80-b425-01353c077048",
   "metadata": {},
   "outputs": [],
   "source": [
    "# python -m pip install -r requirements.txt\n",
    "# to python-script:\n",
    "#  - via jupyterlab-gui\n",
    "#  - via jupyter nbconvert --to script [YOUR_NOTEBOOK].ipynb"
   ]
  },
  {
   "cell_type": "code",
   "execution_count": 12,
   "id": "7bf28015-8e84-485d-887c-1b36ef635635",
   "metadata": {},
   "outputs": [],
   "source": [
    "import requests\n",
    "from datetime import datetime, timezone\n",
    "import json"
   ]
  },
  {
   "cell_type": "markdown",
   "id": "f0773721-8473-4ade-93b4-c42c2dad7c5c",
   "metadata": {},
   "source": [
    "## Berta Block Boulderhalle Berlin Scraper"
   ]
  },
  {
   "cell_type": "code",
   "execution_count": 4,
   "id": "d4b6bdd9-41d6-49a4-b6d0-acf0e5e50169",
   "metadata": {},
   "outputs": [],
   "source": [
    "\"\"\"\n",
    "acronyms:\n",
    "\n",
    "cod: status_code\n",
    "ela: elapsed in microseconds (not milliseconds)\n",
    "url: url\n",
    "dat: date\n",
    "enc: encoding\n",
    "ctt: content-type\n",
    "d: data\n",
    "\n",
    "dli: datalist: [{event start (string utc nach iso 8601), end: event end (string utc nach iso 8601)}, ...]\n",
    "min: minCourseParticipantCount\n",
    "max: maxCourseParticipantCount\n",
    "cur: currentCourseParticipantCount\n",
    "state: state\n",
    "\n",
    "\"\"\"\n",
    "\n",
    "pass"
   ]
  },
  {
   "cell_type": "code",
   "execution_count": 5,
   "id": "4937c7e1-0148-46b4-aa7a-ababb2dbe4d8",
   "metadata": {},
   "outputs": [],
   "source": [
    "def toIsoString(dateTime):\n",
    "    return dateTime.isoformat()\n",
    "\n",
    "def getUtc():\n",
    "    return datetime.now(timezone.utc).replace(microsecond=0)\n",
    "\n",
    "def getUtcIsoString():\n",
    "    return toIsoString(getUtc())\n",
    "\n",
    "def unixTimestampToUTCIsoString(unixTimestamp):\n",
    "    # cast to int (should be int already but just in case)\n",
    "    # /1000 to get milliseconds from microseconds\n",
    "    ts = int(unixTimestamp) / 1000\n",
    "    dt = datetime.utcfromtimestamp(ts)\n",
    "    return toIsoString(dt)\n",
    "\n",
    "def getUnixTimestamp(dt):\n",
    "    return int(dt.timestamp()) * 1000\n",
    "\n",
    "def getDatetimeTodayWithSpecificHour(hour):\n",
    "    return getUtc().replace(hour=hour, minute=0, second=0)\n",
    "\n",
    "def parse_payload(response_payload):\n",
    "    data = []\n",
    "    for a in response_payload:\n",
    "        record = {\n",
    "        \"dli\": [{\"sta\": unixTimestampToUTCIsoString(b[\"start\"]), \"end\": unixTimestampToUTCIsoString(b[\"end\"])} for b in a[\"dateList\"]],\n",
    "        \"min\": a[\"minCourseParticipantCount\"],\n",
    "        \"max\": a[\"maxCourseParticipantCount\"],\n",
    "        \"cur\": a[\"currentCourseParticipantCount\"],\n",
    "        \"state\": a[\"state\"]\n",
    "        }\n",
    "        data.append(record)\n",
    "    return data"
   ]
  },
  {
   "cell_type": "code",
   "execution_count": 6,
   "id": "8c107d32-2bbc-4e91-90ed-6dcd6a886b1d",
   "metadata": {},
   "outputs": [
    {
     "data": {
      "text/plain": [
       "'https://backend.dr-plano.com/courses_dates?id=114569964&start=1650783600000&end=1650837600000'"
      ]
     },
     "execution_count": 6,
     "metadata": {},
     "output_type": "execute_result"
    }
   ],
   "source": [
    "# url = \"https://jsonplaceholder.typicode.com/todos/1\"\n",
    "\n",
    "# start: e.g. 1650265200000\n",
    "# end: e.g. 1650319200000\n",
    "url = (\n",
    "        \"https://backend.dr-plano.com/courses_dates?\" +\n",
    "        \"id=114569964\" +\n",
    "        \"&start=\" + str(getUnixTimestamp(getDatetimeTodayWithSpecificHour(7))) +\n",
    "        \"&end=\" + str(getUnixTimestamp(getDatetimeTodayWithSpecificHour(22))))\n",
    "url"
   ]
  },
  {
   "cell_type": "code",
   "execution_count": 7,
   "id": "f7717e8d-606d-4ce8-83a5-7be8bf0af5e9",
   "metadata": {},
   "outputs": [],
   "source": [
    "headers = {\n",
    "    \"User-Agent\": \"Mozilla/5.0 (Windows NT 10.0; Win64; x64) AppleWebKit/537.36 (KHTML, like Gecko) Chrome/100.0.4896.127 Safari/537.36\",\n",
    "    \"accept\": \"application/json\"\n",
    "}\n",
    "response = requests.get(url, headers=headers)"
   ]
  },
  {
   "cell_type": "code",
   "execution_count": 8,
   "id": "75ab7108-ee80-43bf-ac7c-b0121dd179af",
   "metadata": {},
   "outputs": [],
   "source": [
    "parsed_result = {\n",
    "    \"cod\": response.status_code,\n",
    "    \"ela\": response.elapsed.microseconds,\n",
    "    \"url\": response.url, \n",
    "    \"dat\": getUtcIsoString(),\n",
    "    \"enc\": response.encoding,\n",
    "    \"ctt\": response.headers[\"Content-Type\"],\n",
    "    \"d\": parse_payload(response.json())\n",
    "}"
   ]
  },
  {
   "cell_type": "code",
   "execution_count": 9,
   "id": "5d6031de-d438-45d7-9d33-f1e982b38f26",
   "metadata": {},
   "outputs": [
    {
     "data": {
      "text/plain": [
       "'{\"cod\": 200, \"ela\": 195437, \"url\": \"https://backend.dr-plano.com/courses_dates?id=114569964&start=1650783600000&end=1650837600000\", \"dat\": \"2022-04-24T07:19:28+00:00\", \"enc\": \"utf-8\", \"ctt\": \"application/json\", \"d\": [{\"dli\": [{\"sta\": \"2022-04-24T07:00:00\", \"end\": \"2022-04-24T10:00:00\"}], \"min\": 1, \"max\": 40, \"cur\": 33, \"state\": \"BOOKABLE\"}, {\"dli\": [{\"sta\": \"2022-04-24T07:30:00\", \"end\": \"2022-04-24T10:30:00\"}], \"min\": 1, \"max\": 40, \"cur\": 19, \"state\": \"BOOKABLE\"}, {\"dli\": [{\"sta\": \"2022-04-24T08:00:00\", \"end\": \"2022-04-24T11:00:00\"}], \"min\": 1, \"max\": 40, \"cur\": 21, \"state\": \"BOOKABLE\"}, {\"dli\": [{\"sta\": \"2022-04-24T08:30:00\", \"end\": \"2022-04-24T11:30:00\"}], \"min\": 1, \"max\": 40, \"cur\": 14, \"state\": \"BOOKABLE\"}, {\"dli\": [{\"sta\": \"2022-04-24T09:00:00\", \"end\": \"2022-04-24T12:00:00\"}], \"min\": 1, \"max\": 40, \"cur\": 11, \"state\": \"BOOKABLE\"}, {\"dli\": [{\"sta\": \"2022-04-24T09:30:00\", \"end\": \"2022-04-24T12:30:00\"}], \"min\": 1, \"max\": 40, \"cur\": 3, \"state\": \"BOOKABLE\"}, {\"dli\": [{\"sta\": \"2022-04-24T10:00:00\", \"end\": \"2022-04-24T13:00:00\"}], \"min\": 1, \"max\": 40, \"cur\": 22, \"state\": \"BOOKABLE\"}, {\"dli\": [{\"sta\": \"2022-04-24T10:30:00\", \"end\": \"2022-04-24T13:30:00\"}], \"min\": 1, \"max\": 40, \"cur\": 2, \"state\": \"BOOKABLE\"}, {\"dli\": [{\"sta\": \"2022-04-24T11:00:00\", \"end\": \"2022-04-24T14:00:00\"}], \"min\": 1, \"max\": 40, \"cur\": 10, \"state\": \"BOOKABLE\"}, {\"dli\": [{\"sta\": \"2022-04-24T11:30:00\", \"end\": \"2022-04-24T14:30:00\"}], \"min\": 1, \"max\": 40, \"cur\": 4, \"state\": \"BOOKABLE\"}, {\"dli\": [{\"sta\": \"2022-04-24T12:30:00\", \"end\": \"2022-04-24T15:30:00\"}], \"min\": 1, \"max\": 40, \"cur\": 2, \"state\": \"BOOKABLE\"}, {\"dli\": [{\"sta\": \"2022-04-24T13:00:00\", \"end\": \"2022-04-24T16:00:00\"}], \"min\": 1, \"max\": 40, \"cur\": 20, \"state\": \"BOOKABLE\"}, {\"dli\": [{\"sta\": \"2022-04-24T12:00:00\", \"end\": \"2022-04-24T15:00:00\"}], \"min\": 1, \"max\": 40, \"cur\": 11, \"state\": \"BOOKABLE\"}, {\"dli\": [{\"sta\": \"2022-04-24T13:30:00\", \"end\": \"2022-04-24T16:30:00\"}], \"min\": 1, \"max\": 40, \"cur\": 2, \"state\": \"BOOKABLE\"}, {\"dli\": [{\"sta\": \"2022-04-24T14:00:00\", \"end\": \"2022-04-24T17:00:00\"}], \"min\": 1, \"max\": 40, \"cur\": 12, \"state\": \"BOOKABLE\"}, {\"dli\": [{\"sta\": \"2022-04-24T14:30:00\", \"end\": \"2022-04-24T17:30:00\"}], \"min\": 1, \"max\": 40, \"cur\": 12, \"state\": \"BOOKABLE\"}, {\"dli\": [{\"sta\": \"2022-04-24T15:00:00\", \"end\": \"2022-04-24T18:00:00\"}], \"min\": 1, \"max\": 40, \"cur\": 5, \"state\": \"BOOKABLE\"}, {\"dli\": [{\"sta\": \"2022-04-24T15:30:00\", \"end\": \"2022-04-24T18:30:00\"}], \"min\": 1, \"max\": 40, \"cur\": 6, \"state\": \"BOOKABLE\"}, {\"dli\": [{\"sta\": \"2022-04-24T16:00:00\", \"end\": \"2022-04-24T19:00:00\"}], \"min\": 1, \"max\": 40, \"cur\": 16, \"state\": \"BOOKABLE\"}, {\"dli\": [{\"sta\": \"2022-04-24T16:30:00\", \"end\": \"2022-04-24T19:30:00\"}], \"min\": 1, \"max\": 40, \"cur\": 4, \"state\": \"BOOKABLE\"}, {\"dli\": [{\"sta\": \"2022-04-24T17:00:00\", \"end\": \"2022-04-24T20:00:00\"}], \"min\": 1, \"max\": 40, \"cur\": 0, \"state\": \"BOOKABLE\"}, {\"dli\": [{\"sta\": \"2022-04-24T17:30:00\", \"end\": \"2022-04-24T20:30:00\"}], \"min\": 1, \"max\": 40, \"cur\": 6, \"state\": \"BOOKABLE\"}, {\"dli\": [{\"sta\": \"2022-04-24T18:00:00\", \"end\": \"2022-04-24T21:00:00\"}], \"min\": 1, \"max\": 40, \"cur\": 0, \"state\": \"BOOKABLE\"}, {\"dli\": [{\"sta\": \"2022-04-24T18:30:00\", \"end\": \"2022-04-24T21:30:00\"}], \"min\": 1, \"max\": 40, \"cur\": 0, \"state\": \"BOOKABLE\"}]}'"
      ]
     },
     "execution_count": 9,
     "metadata": {},
     "output_type": "execute_result"
    }
   ],
   "source": [
    "json_string = json.dumps(parsed_result)\n",
    "json_string"
   ]
  },
  {
   "cell_type": "code",
   "execution_count": 10,
   "id": "4c169e76-e3e9-4ae9-a896-d27bebbe90a4",
   "metadata": {},
   "outputs": [],
   "source": [
    "with open(\"stats/parsed.data\", \"a\") as data_file:\n",
    "    data_file.write(json_string + \"\\n\")"
   ]
  }
 ],
 "metadata": {
  "kernelspec": {
   "display_name": "Python 3 (ipykernel)",
   "language": "python",
   "name": "python3"
  },
  "language_info": {
   "codemirror_mode": {
    "name": "ipython",
    "version": 3
   },
   "file_extension": ".py",
   "mimetype": "text/x-python",
   "name": "python",
   "nbconvert_exporter": "python",
   "pygments_lexer": "ipython3",
   "version": "3.8.12"
  }
 },
 "nbformat": 4,
 "nbformat_minor": 5
}
