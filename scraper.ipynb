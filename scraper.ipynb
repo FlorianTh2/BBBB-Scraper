{
 "cells": [
  {
   "cell_type": "code",
   "execution_count": 34,
   "id": "7bf28015-8e84-485d-887c-1b36ef635635",
   "metadata": {},
   "outputs": [],
   "source": [
    "import requests\n",
    "import pandas as pd\n",
    "from datetime import datetime, timezone"
   ]
  },
  {
   "cell_type": "code",
   "execution_count": null,
   "id": "d4b6bdd9-41d6-49a4-b6d0-acf0e5e50169",
   "metadata": {},
   "outputs": [],
   "source": [
    "\"\"\"\n",
    "acronyms:\n",
    "\n",
    "cod: status_code\n",
    "ela: elapsed in microseconds (not milliseconds)\n",
    "url: url\n",
    "dat: date\n",
    "enc: encoding\n",
    "ctt: content-type\n",
    "\n",
    "sta: start (string utc nach iso 8601)\n",
    "end: end (string utc nach iso 8601)\n",
    "min: minCourseParticipantCount\n",
    "max: maxCourseParticipantCount\n",
    "cur: currentCourseParticipantCount\n",
    "state: state\n",
    "\n",
    "\"\"\""
   ]
  },
  {
   "cell_type": "code",
   "execution_count": 23,
   "id": "a2bad948-7aa1-4a7e-a688-42f56608710c",
   "metadata": {},
   "outputs": [],
   "source": [
    "# url = \"https://jsonplaceholder.typicode.com/todos/1\"\n",
    "url = \"https://backend.dr-plano.com/courses_dates?id=114569964&start=1650265200000&end=1650319200000\"\n",
    "headers = {\n",
    "    \"User-Agent\": \"Mozilla/5.0 (Windows NT 10.0; Win64; x64) AppleWebKit/537.36 (KHTML, like Gecko) Chrome/100.0.4896.127 Safari/537.36\",\n",
    "    \"accept\": \"application/json\"\n",
    "}"
   ]
  },
  {
   "cell_type": "code",
   "execution_count": 25,
   "id": "3dea2d26-172d-4f68-8203-ef6bdfc96d35",
   "metadata": {},
   "outputs": [],
   "source": [
    "response = requests.get(url, headers=headers)"
   ]
  },
  {
   "cell_type": "code",
   "execution_count": 24,
   "id": "75ab7108-ee80-43bf-ac7c-b0121dd179af",
   "metadata": {},
   "outputs": [
    {
     "data": {
      "text/plain": [
       "'application/json'"
      ]
     },
     "execution_count": 24,
     "metadata": {},
     "output_type": "execute_result"
    }
   ],
   "source": [
    "parsed_result = {\n",
    "    \"cod\": response.status_code,\n",
    "    \"ela\": response.elapsed.microseconds,\n",
    "    \"url\": response.url, \n",
    "    \"dat\":,\n",
    "    \"enc\": response.encoding,\n",
    "    \"ctt\": response.headers[\"Content-Type\"],\n",
    "    \"\":,\n",
    "}\n",
    "\n",
    "\n",
    "\n",
    "\n",
    "\n",
    "response.headers[\"Date\"]\n",
    "\n"
   ]
  },
  {
   "cell_type": "code",
   "execution_count": 10,
   "id": "2fda3baf-4db8-49a2-b2f0-1e7d167c76e0",
   "metadata": {},
   "outputs": [],
   "source": [
    "# response.json()"
   ]
  },
  {
   "cell_type": "code",
   "execution_count": 40,
   "id": "4a087b9c-27ab-4cba-a1fb-7e561b7b6526",
   "metadata": {},
   "outputs": [
    {
     "data": {
      "text/plain": [
       "datetime.datetime(2022, 4, 18, 11, 47, 50, tzinfo=datetime.timezone.utc)"
      ]
     },
     "execution_count": 40,
     "metadata": {},
     "output_type": "execute_result"
    }
   ],
   "source": [
    "def getUtcIsoString():\n",
    "    return datetime.now(timezone.utc).replace(microsecond=0).isoformat()\n",
    "getUtc()"
   ]
  },
  {
   "cell_type": "code",
   "execution_count": null,
   "id": "3823548e-0499-42e7-b910-46d6badce595",
   "metadata": {},
   "outputs": [],
   "source": []
  }
 ],
 "metadata": {
  "kernelspec": {
   "display_name": "Python 3 (ipykernel)",
   "language": "python",
   "name": "python3"
  },
  "language_info": {
   "codemirror_mode": {
    "name": "ipython",
    "version": 3
   },
   "file_extension": ".py",
   "mimetype": "text/x-python",
   "name": "python",
   "nbconvert_exporter": "python",
   "pygments_lexer": "ipython3",
   "version": "3.8.12"
  }
 },
 "nbformat": 4,
 "nbformat_minor": 5
}
