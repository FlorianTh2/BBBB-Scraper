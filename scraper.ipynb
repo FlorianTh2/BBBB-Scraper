{
 "cells": [
  {
   "cell_type": "code",
   "execution_count": 10,
   "id": "7bf28015-8e84-485d-887c-1b36ef635635",
   "metadata": {},
   "outputs": [],
   "source": [
    "import requests\n",
    "import pandas as pd\n",
    "from datetime import datetime, timezone\n",
    "import json"
   ]
  },
  {
   "cell_type": "code",
   "execution_count": 2,
   "id": "d4b6bdd9-41d6-49a4-b6d0-acf0e5e50169",
   "metadata": {},
   "outputs": [
    {
     "data": {
      "text/plain": [
       "'\\nacronyms:\\n\\ncod: status_code\\nela: elapsed in microseconds (not milliseconds)\\nurl: url\\ndat: date\\nenc: encoding\\nctt: content-type\\nd: data\\n\\ndli: datalist: [{event start (string utc nach iso 8601), end: event end (string utc nach iso 8601)}, ...]\\nmin: minCourseParticipantCount\\nmax: maxCourseParticipantCount\\ncur: currentCourseParticipantCount\\nstate: state\\n\\n'"
      ]
     },
     "execution_count": 2,
     "metadata": {},
     "output_type": "execute_result"
    }
   ],
   "source": [
    "\"\"\"\n",
    "acronyms:\n",
    "\n",
    "cod: status_code\n",
    "ela: elapsed in microseconds (not milliseconds)\n",
    "url: url\n",
    "dat: date\n",
    "enc: encoding\n",
    "ctt: content-type\n",
    "d: data\n",
    "\n",
    "dli: datalist: [{event start (string utc nach iso 8601), end: event end (string utc nach iso 8601)}, ...]\n",
    "min: minCourseParticipantCount\n",
    "max: maxCourseParticipantCount\n",
    "cur: currentCourseParticipantCount\n",
    "state: state\n",
    "\n",
    "\"\"\""
   ]
  },
  {
   "cell_type": "code",
   "execution_count": 3,
   "id": "4937c7e1-0148-46b4-aa7a-ababb2dbe4d8",
   "metadata": {},
   "outputs": [],
   "source": [
    "def toIsoString(dateTime):\n",
    "    return dateTime.isoformat()\n",
    "\n",
    "def getUtcIsoString():\n",
    "    utcDt = datetime.now(timezone.utc).replace(microsecond=0)\n",
    "    return toIsoString(utcDt)"
   ]
  },
  {
   "cell_type": "code",
   "execution_count": 4,
   "id": "76d8a0d8-8e1d-4214-bd89-f785323ee732",
   "metadata": {},
   "outputs": [],
   "source": [
    "def unixTimestampToUTCIsoString(unixTimestamp):\n",
    "    # cast to int (should be int already but just in case)\n",
    "    # /1000 to get milliseconds from microseconds\n",
    "    ts = int(unixTimestamp) / 1000\n",
    "    dt = datetime.utcfromtimestamp(ts)\n",
    "    return toIsoString(dt)"
   ]
  },
  {
   "cell_type": "code",
   "execution_count": 5,
   "id": "c110b466-c7fc-47ca-8952-41f2c321e371",
   "metadata": {},
   "outputs": [],
   "source": [
    "def parse_payload(response_payload):\n",
    "    data = []\n",
    "    for a in response_payload:\n",
    "        record = {\n",
    "        \"dli\": [{\"sta\": unixTimestampToUTCIsoString(b[\"start\"]), \"end\": unixTimestampToUTCIsoString(b[\"end\"])} for b in a[\"dateList\"]],\n",
    "        \"min\": a[\"minCourseParticipantCount\"],\n",
    "        \"max\": a[\"maxCourseParticipantCount\"],\n",
    "        \"cur\": a[\"currentCourseParticipantCount\"],\n",
    "        \"state\": a[\"state\"]\n",
    "        }\n",
    "        data.append(record)\n",
    "    return data"
   ]
  },
  {
   "cell_type": "code",
   "execution_count": 6,
   "id": "a2bad948-7aa1-4a7e-a688-42f56608710c",
   "metadata": {},
   "outputs": [],
   "source": [
    "# url = \"https://jsonplaceholder.typicode.com/todos/1\"\n",
    "url = \"https://backend.dr-plano.com/courses_dates?id=114569964&start=1650265200000&end=1650319200000\"\n",
    "headers = {\n",
    "    \"User-Agent\": \"Mozilla/5.0 (Windows NT 10.0; Win64; x64) AppleWebKit/537.36 (KHTML, like Gecko) Chrome/100.0.4896.127 Safari/537.36\",\n",
    "    \"accept\": \"application/json\"\n",
    "}\n",
    "response = requests.get(url, headers=headers)"
   ]
  },
  {
   "cell_type": "code",
   "execution_count": 16,
   "id": "75ab7108-ee80-43bf-ac7c-b0121dd179af",
   "metadata": {},
   "outputs": [],
   "source": [
    "parsed_result = {\n",
    "    \"cod\": response.status_code,\n",
    "    \"ela\": response.elapsed.microseconds,\n",
    "    \"url\": response.url, \n",
    "    \"dat\": getUtcIsoString(),\n",
    "    \"enc\": response.encoding,\n",
    "    \"ctt\": response.headers[\"Content-Type\"],\n",
    "    \"d\": parse_payload(response.json())\n",
    "}"
   ]
  },
  {
   "cell_type": "code",
   "execution_count": null,
   "id": "5d6031de-d438-45d7-9d33-f1e982b38f26",
   "metadata": {},
   "outputs": [],
   "source": [
    "json_string = json.dumps(parsed_result)\n",
    "\n",
    "with open(\"stats/parsed.data\", \"a\") as data_file:\n",
    "    data_file.write(json_string + \"\\n\")"
   ]
  }
 ],
 "metadata": {
  "kernelspec": {
   "display_name": "Python 3 (ipykernel)",
   "language": "python",
   "name": "python3"
  },
  "language_info": {
   "codemirror_mode": {
    "name": "ipython",
    "version": 3
   },
   "file_extension": ".py",
   "mimetype": "text/x-python",
   "name": "python",
   "nbconvert_exporter": "python",
   "pygments_lexer": "ipython3",
   "version": "3.8.12"
  }
 },
 "nbformat": 4,
 "nbformat_minor": 5
}
